{
 "cells": [
  {
   "cell_type": "code",
   "execution_count": 24,
   "id": "9b1c1c9f",
   "metadata": {},
   "outputs": [],
   "source": [
    "def wage (w_hours):\n",
    "    return w_hours * 25\n",
    "\n",
    "def with_bonus (w_hours):\n",
    "    return wage (w_hours) + 50\n",
    "#Nesta linha nós criamos uma função dentro de outra função. "
   ]
  },
  {
   "cell_type": "code",
   "execution_count": 25,
   "id": "97aa3fa4",
   "metadata": {},
   "outputs": [
    {
     "data": {
      "text/plain": [
       "(200, 250)"
      ]
     },
     "execution_count": 25,
     "metadata": {},
     "output_type": "execute_result"
    }
   ],
   "source": [
    "wage (8), with_bonus(8) #Vamos imprimir esta função utilizando dois argumentos"
   ]
  },
  {
   "cell_type": "code",
   "execution_count": 1,
   "id": "af4ebd8c",
   "metadata": {},
   "outputs": [
    {
     "data": {
      "text/plain": [
       "'500'"
      ]
     },
     "execution_count": 1,
     "metadata": {},
     "output_type": "execute_result"
    }
   ],
   "source": [
    "str(500)"
   ]
  },
  {
   "cell_type": "code",
   "execution_count": 2,
   "id": "095acb31",
   "metadata": {},
   "outputs": [
    {
     "data": {
      "text/plain": [
       "30"
      ]
     },
     "execution_count": 2,
     "metadata": {},
     "output_type": "execute_result"
    }
   ],
   "source": [
    "max (10, 20, 30, 5) # A função Max, retorna o maior número da sequência do seu argumento."
   ]
  },
  {
   "cell_type": "code",
   "execution_count": 3,
   "id": "db600f6b",
   "metadata": {},
   "outputs": [
    {
     "data": {
      "text/plain": [
       "5"
      ]
     },
     "execution_count": 3,
     "metadata": {},
     "output_type": "execute_result"
    }
   ],
   "source": [
    "min (10,20,30,5) # Enquanto isso, a função \"min\" retorna o menor número da sequência do seu argumento."
   ]
  },
  {
   "cell_type": "code",
   "execution_count": 9,
   "id": "9759456a",
   "metadata": {},
   "outputs": [
    {
     "data": {
      "text/plain": [
       "100"
      ]
     },
     "execution_count": 9,
     "metadata": {},
     "output_type": "execute_result"
    }
   ],
   "source": [
    "z = -100\n",
    "abs(z) # A função \"abs()\" retorna o valor absoluto do argumento\n",
    "#O valor absoluto de um número é igual ao próprio número se ele for positivo ou \n",
    "#igual ao oposto do número se ele for negativo. Por exemplo, o valor absoluto de 5 é 5 e o valor absoluto de -5 é também 5."
   ]
  },
  {
   "cell_type": "code",
   "execution_count": 20,
   "id": "079f46ec",
   "metadata": {},
   "outputs": [],
   "source": [
    "#Abaixo vamos criar uma lista que terá 4 números. Numero 1, 2, 3 e 4. E, logo em seguida vamos usar a função \"sum\".#"
   ]
  },
  {
   "cell_type": "code",
   "execution_count": 13,
   "id": "ca0e2c1c",
   "metadata": {},
   "outputs": [],
   "source": [
    "list = [1,2,3,4]"
   ]
  },
  {
   "cell_type": "code",
   "execution_count": 21,
   "id": "b887dd7c",
   "metadata": {},
   "outputs": [
    {
     "data": {
      "text/plain": [
       "10"
      ]
     },
     "execution_count": 21,
     "metadata": {},
     "output_type": "execute_result"
    }
   ],
   "source": [
    "sum(list) #A função \"sum\" irá calcular a soma de todos os elementos em uma lista designada como argumento. "
   ]
  },
  {
   "cell_type": "code",
   "execution_count": 22,
   "id": "89457bac",
   "metadata": {},
   "outputs": [
    {
     "data": {
      "text/plain": [
       "3.56"
      ]
     },
     "execution_count": 22,
     "metadata": {},
     "output_type": "execute_result"
    }
   ],
   "source": [
    "round(3.555,2) #A função \"round(x,y)\" retorna o float do argumento (x), arredondando para um número específico de dígito (y) \n",
    "#depois do ponto decimal. "
   ]
  },
  {
   "cell_type": "code",
   "execution_count": 27,
   "id": "47c0be59",
   "metadata": {},
   "outputs": [
    {
     "data": {
      "text/plain": [
       "3"
      ]
     },
     "execution_count": 27,
     "metadata": {},
     "output_type": "execute_result"
    }
   ],
   "source": [
    "round(3.4) #Nesta caso, podemos ver que a quantidade de casas decimais após a vírgula nao foi indicado. Sendo assim, o valor será sempre \"0\"."
   ]
  },
  {
   "cell_type": "code",
   "execution_count": 28,
   "id": "bbe5b029",
   "metadata": {},
   "outputs": [],
   "source": [
    "#Vale destacar que, no caso à cima, ele sempre será arredondado para o número mais próximo.\n",
    "#Por exemplo, se o valor foi 3.4 ele será arredondado para 3, se for 3.6 ele será arredondado para 4. "
   ]
  },
  {
   "cell_type": "code",
   "execution_count": 29,
   "id": "d12b7167",
   "metadata": {},
   "outputs": [],
   "source": [
    "#Além de todas essas funções que já vimos à cima, existe a função \"pow\". A função \"Pow\" retorna x elevado á potência de Y.\n",
    "#Ao invés de utilizarmos o código abaixo:"
   ]
  },
  {
   "cell_type": "code",
   "execution_count": 30,
   "id": "9424a866",
   "metadata": {},
   "outputs": [
    {
     "data": {
      "text/plain": [
       "1024"
      ]
     },
     "execution_count": 30,
     "metadata": {},
     "output_type": "execute_result"
    }
   ],
   "source": [
    "2 ** 10"
   ]
  },
  {
   "cell_type": "code",
   "execution_count": 31,
   "id": "abc1e8f0",
   "metadata": {},
   "outputs": [],
   "source": [
    "#Vamos utilizar a função \"pow()\" que vai gerar o mesmo resultado. Vamos ver?"
   ]
  },
  {
   "cell_type": "code",
   "execution_count": 32,
   "id": "020181b0",
   "metadata": {},
   "outputs": [
    {
     "data": {
      "text/plain": [
       "1024"
      ]
     },
     "execution_count": 32,
     "metadata": {},
     "output_type": "execute_result"
    }
   ],
   "source": [
    "pow(2,10) #(x,y) x elevado a potênca de y."
   ]
  },
  {
   "cell_type": "code",
   "execution_count": 33,
   "id": "eed379f4",
   "metadata": {},
   "outputs": [
    {
     "data": {
      "text/plain": [
       "10"
      ]
     },
     "execution_count": 33,
     "metadata": {},
     "output_type": "execute_result"
    }
   ],
   "source": [
    "#Também temos a função \"len()\" que retorna o número de elementos em um objeto. Veja abaixo:\n",
    "len(\"Matemática\")"
   ]
  },
  {
   "cell_type": "code",
   "execution_count": 35,
   "id": "5f338d4c",
   "metadata": {},
   "outputs": [
    {
     "data": {
      "text/plain": [
       "27"
      ]
     },
     "execution_count": 35,
     "metadata": {},
     "output_type": "execute_result"
    }
   ],
   "source": [
    "len(\"Nelson Waiss Urenha Olimpio\")"
   ]
  },
  {
   "cell_type": "code",
   "execution_count": null,
   "id": "1c63b5fa",
   "metadata": {},
   "outputs": [],
   "source": [
    "#Nota-se que os espaços entre as palavras também são contados, como podemos ver àcima."
   ]
  }
 ],
 "metadata": {
  "kernelspec": {
   "display_name": "Python 3 (ipykernel)",
   "language": "python",
   "name": "python3"
  },
  "language_info": {
   "codemirror_mode": {
    "name": "ipython",
    "version": 3
   },
   "file_extension": ".py",
   "mimetype": "text/x-python",
   "name": "python",
   "nbconvert_exporter": "python",
   "pygments_lexer": "ipython3",
   "version": "3.9.7"
  }
 },
 "nbformat": 4,
 "nbformat_minor": 5
}
