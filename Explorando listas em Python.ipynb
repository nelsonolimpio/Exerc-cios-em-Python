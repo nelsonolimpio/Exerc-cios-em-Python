{
 "cells": [
  {
   "cell_type": "markdown",
   "id": "f0f3a206",
   "metadata": {},
   "source": [
    "# O QUE É UMA LISTA EM PYTHON?"
   ]
  },
  {
   "cell_type": "markdown",
   "id": "e17503ce",
   "metadata": {},
   "source": [
    "Uma lista é um tipo de sequênci de dados do tipo, número, frações ou textos."
   ]
  },
  {
   "cell_type": "markdown",
   "id": "e4f5ea40",
   "metadata": {},
   "source": [
    "Vamos criar uma lista que contenha nomes de alguns participantes de uma festa. Logo em seguida vamos pedir para o python imprimir a lista que criamos."
   ]
  },
  {
   "cell_type": "code",
   "execution_count": 7,
   "id": "bbb9f61c",
   "metadata": {},
   "outputs": [
    {
     "data": {
      "text/plain": [
       "['John', 'Leila', 'Gregory', 'Cate']"
      ]
     },
     "execution_count": 7,
     "metadata": {},
     "output_type": "execute_result"
    }
   ],
   "source": [
    "participantes = [\"John\",\"Leila\",\"Gregory\",\"Cate\"]\n",
    "participantes"
   ]
  },
  {
   "cell_type": "markdown",
   "id": "872e30c7",
   "metadata": {},
   "source": [
    "IMPORTANTE: Para criarmos uma lista, é necessário criá-la dentro de colchetes [] e cada conteúdo deverá estar dentro de aspas \"\", como no exemplo à cima."
   ]
  },
  {
   "cell_type": "markdown",
   "id": "cf8ed44f",
   "metadata": {},
   "source": [
    "Vamos extrair um nome desta lista. Veja abaixo:"
   ]
  },
  {
   "cell_type": "code",
   "execution_count": 10,
   "id": "ff98e4a6",
   "metadata": {},
   "outputs": [
    {
     "data": {
      "text/plain": [
       "'Leila'"
      ]
     },
     "execution_count": 10,
     "metadata": {},
     "output_type": "execute_result"
    }
   ],
   "source": [
    "participantes[1]"
   ]
  },
  {
   "cell_type": "markdown",
   "id": "97f7e9de",
   "metadata": {},
   "source": [
    "Vale destacar que, toda contagem é iniciada do \"0\", portanto para que possamos extrair o nome \"Leila\" devemos pedir que imprima o conteúdo 1."
   ]
  },
  {
   "cell_type": "markdown",
   "id": "874f80cc",
   "metadata": {},
   "source": [
    "Bom, Desta vez, para que possamos extrair o ultimo dado desta lista basta digitarmos o número [-1] que será o nome \"cate\". Se quisermos o nome \"Gregory\" vamos digitar o número [-2] e se quisermos \"Leila\" o número [-3]. Vamos ver abaixo:"
   ]
  },
  {
   "cell_type": "code",
   "execution_count": 11,
   "id": "82af0339",
   "metadata": {},
   "outputs": [
    {
     "data": {
      "text/plain": [
       "'Cate'"
      ]
     },
     "execution_count": 11,
     "metadata": {},
     "output_type": "execute_result"
    }
   ],
   "source": [
    "participantes[-1]"
   ]
  },
  {
   "cell_type": "code",
   "execution_count": 12,
   "id": "778c9e9a",
   "metadata": {},
   "outputs": [
    {
     "data": {
      "text/plain": [
       "'Gregory'"
      ]
     },
     "execution_count": 12,
     "metadata": {},
     "output_type": "execute_result"
    }
   ],
   "source": [
    "participantes[-2]"
   ]
  },
  {
   "cell_type": "code",
   "execution_count": 13,
   "id": "48134491",
   "metadata": {},
   "outputs": [
    {
     "data": {
      "text/plain": [
       "'Leila'"
      ]
     },
     "execution_count": 13,
     "metadata": {},
     "output_type": "execute_result"
    }
   ],
   "source": [
    "participantes[-3]"
   ]
  },
  {
   "cell_type": "markdown",
   "id": "fa011c08",
   "metadata": {},
   "source": [
    "Agora nós vamos substituir um nome da nossa lista. Vamos trocar o último nome (Cate) pelo nome \"Maria\". Mas, antes disso, será necessário acessar o nome \"Cate\" que está na posição [3]. Vamos ver abaixo:"
   ]
  },
  {
   "cell_type": "code",
   "execution_count": 14,
   "id": "dbdf64b9",
   "metadata": {},
   "outputs": [],
   "source": [
    "participantes[3] = \"Maria\""
   ]
  },
  {
   "cell_type": "code",
   "execution_count": 16,
   "id": "49b78e6b",
   "metadata": {},
   "outputs": [
    {
     "data": {
      "text/plain": [
       "['John', 'Leila', 'Gregory', 'Maria']"
      ]
     },
     "execution_count": 16,
     "metadata": {},
     "output_type": "execute_result"
    }
   ],
   "source": [
    "participantes"
   ]
  },
  {
   "cell_type": "markdown",
   "id": "15c6bd7f",
   "metadata": {},
   "source": [
    "Olha só, deu certo. hahaha"
   ]
  },
  {
   "cell_type": "markdown",
   "id": "b678876d",
   "metadata": {},
   "source": [
    "Agora, ao invés de substituirmos um nome desta lista, nós vamos simplesmente deletar. Utilizando o comando \"del\".\n",
    "O comando \"del\" remove um item de uma lista. Como podemos ver abaixo:"
   ]
  },
  {
   "cell_type": "code",
   "execution_count": 17,
   "id": "5647dc7f",
   "metadata": {},
   "outputs": [],
   "source": [
    "del participantes[2] #Aqui estou deletando o participante \"Gergory\"."
   ]
  },
  {
   "cell_type": "code",
   "execution_count": 18,
   "id": "945b5beb",
   "metadata": {},
   "outputs": [
    {
     "data": {
      "text/plain": [
       "['John', 'Leila', 'Maria']"
      ]
     },
     "execution_count": 18,
     "metadata": {},
     "output_type": "execute_result"
    }
   ],
   "source": [
    "participantes"
   ]
  },
  {
   "cell_type": "markdown",
   "id": "469ccd43",
   "metadata": {},
   "source": [
    "IMPORTANTE LEMBRAR QUE, quando deletamos um elemento, todos os elementos seguintes mudam de posição. Antes a Maria estava na posição [3], agora Maria está na posição [2]."
   ]
  },
  {
   "cell_type": "code",
   "execution_count": 20,
   "id": "5c8a535d",
   "metadata": {},
   "outputs": [
    {
     "data": {
      "text/plain": [
       "'Maria'"
      ]
     },
     "execution_count": 20,
     "metadata": {},
     "output_type": "execute_result"
    }
   ],
   "source": [
    "participantes[2]"
   ]
  },
  {
   "cell_type": "markdown",
   "id": "327b30ed",
   "metadata": {},
   "source": [
    "Agora, vamos adicionar um novo participante utilizando o método .append(). O método .append() é um método nativo do Python que nao precisamos criá-los pois ele já está criado."
   ]
  },
  {
   "cell_type": "markdown",
   "id": "8606913b",
   "metadata": {},
   "source": [
    "Vale destacar que, sempre que vamos chamar um método é necessário que antes do comando tenhamos um ponto final \".\" para que o computador entenda que estamos chamando ou invocando um certo método. A seguir, vamos chamar o método .append() adicionando um nome para nossa lista de participantes."
   ]
  },
  {
   "cell_type": "code",
   "execution_count": 21,
   "id": "731d31f0",
   "metadata": {},
   "outputs": [],
   "source": [
    "participantes.append(\"Dwayne\")"
   ]
  },
  {
   "cell_type": "code",
   "execution_count": 22,
   "id": "cfbd31d8",
   "metadata": {},
   "outputs": [
    {
     "data": {
      "text/plain": [
       "['John', 'Leila', 'Maria', 'Dwayne']"
      ]
     },
     "execution_count": 22,
     "metadata": {},
     "output_type": "execute_result"
    }
   ],
   "source": [
    "participantes"
   ]
  },
  {
   "cell_type": "markdown",
   "id": "bb69721f",
   "metadata": {},
   "source": [
    "Além do método .append() temos o método .extend() que também adiciona um membro á nossa lista de participantes. Só que, desta vez, vamos colocar a nossa lista dentro dos parênteses para que possamos adicionar mais de um participante. Veja um exemplo à seguir:"
   ]
  },
  {
   "cell_type": "code",
   "execution_count": 23,
   "id": "9b7a1535",
   "metadata": {},
   "outputs": [],
   "source": [
    "participantes.extend([\"George\",\"Catherine\"])"
   ]
  },
  {
   "cell_type": "code",
   "execution_count": 24,
   "id": "aa833c69",
   "metadata": {},
   "outputs": [
    {
     "data": {
      "text/plain": [
       "['John', 'Leila', 'Maria', 'Dwayne', 'George', 'Catherine']"
      ]
     },
     "execution_count": 24,
     "metadata": {},
     "output_type": "execute_result"
    }
   ],
   "source": [
    "participantes"
   ]
  },
  {
   "cell_type": "markdown",
   "id": "4931d0a0",
   "metadata": {},
   "source": [
    "É possível que os elementos de uma lista sejam tratados diretamente como uma string. Vamos ver quem é o primeiro participantes da nossa lista?"
   ]
  },
  {
   "cell_type": "code",
   "execution_count": 31,
   "id": "618e8060",
   "metadata": {},
   "outputs": [
    {
     "data": {
      "text/plain": [
       "'The first participant is John.'"
      ]
     },
     "execution_count": 31,
     "metadata": {},
     "output_type": "execute_result"
    }
   ],
   "source": [
    "'The first participant is ' + participantes[0] + '.'"
   ]
  },
  {
   "cell_type": "markdown",
   "id": "8317d9e7",
   "metadata": {},
   "source": [
    "O comando \"len\" nos diz a quantidade de caracteres obtemos dentro de uma lista. Vamos ver?"
   ]
  },
  {
   "cell_type": "code",
   "execution_count": 32,
   "id": "c7f92f1f",
   "metadata": {},
   "outputs": [
    {
     "data": {
      "text/plain": [
       "6"
      ]
     },
     "execution_count": 32,
     "metadata": {},
     "output_type": "execute_result"
    }
   ],
   "source": [
    "len(participantes)"
   ]
  },
  {
   "cell_type": "code",
   "execution_count": 33,
   "id": "775f701f",
   "metadata": {},
   "outputs": [
    {
     "data": {
      "text/plain": [
       "5"
      ]
     },
     "execution_count": 33,
     "metadata": {},
     "output_type": "execute_result"
    }
   ],
   "source": [
    "len(participantes[2])"
   ]
  },
  {
   "cell_type": "markdown",
   "id": "0a8ba595",
   "metadata": {},
   "source": [
    "No comando à cima, pedimos para que o programa imprimisse quantos caracteres existem dentro do 2 elemento da minha lista. Ou seja, o nome \"Maria\" que possui 5 letras. "
   ]
  },
  {
   "cell_type": "markdown",
   "id": "97948921",
   "metadata": {},
   "source": [
    "Possivelmente, em algum momento da nossa carreira vamos trabalhar com grande quantidade de dados. E, as vezes, será necessário extrair dados dentro de um intervalo determinado. Vamos usar como exemplo a nossa lista que contém apenas 6 nomes. Vamos precisar somente de uma lista que contenha o nome Leila e Maria. Para isso, vamos usar o código à seguir:"
   ]
  },
  {
   "cell_type": "code",
   "execution_count": 35,
   "id": "58ddfae9",
   "metadata": {},
   "outputs": [
    {
     "data": {
      "text/plain": [
       "['Leila', 'Maria']"
      ]
     },
     "execution_count": 35,
     "metadata": {},
     "output_type": "execute_result"
    }
   ],
   "source": [
    "participantes[1:3] #Neste caso o número que está antes dos dois pontos, é exatamente o primeiro elemento que vamos contar.\n",
    "#o número que está após os dois pontos será o elemento posterior ao ultimo que vamos querer."
   ]
  },
  {
   "cell_type": "markdown",
   "id": "c3462264",
   "metadata": {},
   "source": [
    "O elemento 1 é o elemento \"Leila\" enquanto o elemento 3 é o elemento \"Dwayne\", mas, como dito, o segundo número simboliza o elemento posterior à aquele que vamos querer. Então o computador entender que deve imprimir o elemento anterior ao 3."
   ]
  },
  {
   "cell_type": "code",
   "execution_count": 37,
   "id": "8b36a33d",
   "metadata": {},
   "outputs": [
    {
     "data": {
      "text/plain": [
       "['John', 'Leila']"
      ]
     },
     "execution_count": 37,
     "metadata": {},
     "output_type": "execute_result"
    }
   ],
   "source": [
    "participantes[:2] #Quando digiamos diretamente \":\" e um elemento, ele trará todos os elementos que estão antes dele na nossa lista."
   ]
  },
  {
   "cell_type": "code",
   "execution_count": 39,
   "id": "8af1e679",
   "metadata": {},
   "outputs": [
    {
     "data": {
      "text/plain": [
       "['Maria', 'Dwayne', 'George', 'Catherine']"
      ]
     },
     "execution_count": 39,
     "metadata": {},
     "output_type": "execute_result"
    }
   ],
   "source": [
    "participantes[2:] #Assim como digitando os número e o ponto, ele trata todos os elementos que estarão após aquele elemento."
   ]
  },
  {
   "cell_type": "markdown",
   "id": "7c0fad5f",
   "metadata": {},
   "source": [
    "Outra maneira de executarmos o código à cima é fazendo da seguinte forma:"
   ]
  },
  {
   "cell_type": "code",
   "execution_count": 41,
   "id": "940d35e4",
   "metadata": {},
   "outputs": [
    {
     "data": {
      "text/plain": [
       "['George', 'Catherine']"
      ]
     },
     "execution_count": 41,
     "metadata": {},
     "output_type": "execute_result"
    }
   ],
   "source": [
    "participantes[-2:]"
   ]
  },
  {
   "cell_type": "markdown",
   "id": "643572b9",
   "metadata": {},
   "source": [
    "Podemos ver que ele trouxe os dois útimos elementos da nossa lista. "
   ]
  },
  {
   "cell_type": "code",
   "execution_count": 42,
   "id": "6c1f70a1",
   "metadata": {},
   "outputs": [
    {
     "data": {
      "text/plain": [
       "['Dwayne', 'George', 'Catherine']"
      ]
     },
     "execution_count": 42,
     "metadata": {},
     "output_type": "execute_result"
    }
   ],
   "source": [
    "participantes[-3:]"
   ]
  },
  {
   "cell_type": "code",
   "execution_count": 44,
   "id": "c01f0dea",
   "metadata": {},
   "outputs": [
    {
     "data": {
      "text/plain": [
       "['Maria', 'Dwayne', 'George', 'Catherine']"
      ]
     },
     "execution_count": 44,
     "metadata": {},
     "output_type": "execute_result"
    }
   ],
   "source": [
    "participantes[-4:]"
   ]
  },
  {
   "cell_type": "markdown",
   "id": "6ac59e92",
   "metadata": {},
   "source": [
    "Vamos supor que precisamos saber se um determinado nome está na nossa lista de participantes. Para isso, vamos chamar o método .index(), que trara pra nós qual a posição do nome que estamos buscando. Vamos ver um exemplo à seguir:"
   ]
  },
  {
   "cell_type": "code",
   "execution_count": 45,
   "id": "42ef63a3",
   "metadata": {},
   "outputs": [
    {
     "data": {
      "text/plain": [
       "2"
      ]
     },
     "execution_count": 45,
     "metadata": {},
     "output_type": "execute_result"
    }
   ],
   "source": [
    "participantes.index(\"Maria\") #Quero saber em qual posição está o nome \"Maria\" dentro da minha lista."
   ]
  },
  {
   "cell_type": "markdown",
   "id": "f3279b37",
   "metadata": {},
   "source": [
    "## Desta vez, vamos criar uma lista dentro de outra lista."
   ]
  },
  {
   "cell_type": "code",
   "execution_count": 46,
   "id": "d76c6b0f",
   "metadata": {},
   "outputs": [],
   "source": [
    "NewComers = ['Joshua','Brittany']"
   ]
  },
  {
   "cell_type": "code",
   "execution_count": 47,
   "id": "f19cc7da",
   "metadata": {},
   "outputs": [
    {
     "data": {
      "text/plain": [
       "['Joshua', 'Brittany']"
      ]
     },
     "execution_count": 47,
     "metadata": {},
     "output_type": "execute_result"
    }
   ],
   "source": [
    "NewComers"
   ]
  },
  {
   "cell_type": "markdown",
   "id": "df097071",
   "metadata": {},
   "source": [
    "No código à cima eu criei uma lista chamada \"New Comers\" e atribuí a ela dois elementos, o elemento Joshua e Brittany."
   ]
  },
  {
   "cell_type": "code",
   "execution_count": 48,
   "id": "ece04407",
   "metadata": {},
   "outputs": [],
   "source": [
    "Bigger_list = [participantes, NewComers]"
   ]
  },
  {
   "cell_type": "code",
   "execution_count": 49,
   "id": "2a005edc",
   "metadata": {},
   "outputs": [
    {
     "data": {
      "text/plain": [
       "[['John', 'Leila', 'Maria', 'Dwayne', 'George', 'Catherine'],\n",
       " ['Joshua', 'Brittany']]"
      ]
     },
     "execution_count": 49,
     "metadata": {},
     "output_type": "execute_result"
    }
   ],
   "source": [
    "Bigger_list"
   ]
  },
  {
   "cell_type": "markdown",
   "id": "381e47cf",
   "metadata": {},
   "source": [
    "Desta vez, criamos uma grande lista com os elementos da nossa lista participantes com a nossa lista NewComers. Podemos ver que existe duas lista dentro de uma, ao invés de termos uma única lista com todos os nomes?"
   ]
  },
  {
   "cell_type": "markdown",
   "id": "62dde9ad",
   "metadata": {},
   "source": [
    "Agora vamos ordenar o nome das pessoas da nossa lista em ordem alfabética utlizando o método .sort() que classifica objetos da lista."
   ]
  },
  {
   "cell_type": "code",
   "execution_count": 52,
   "id": "db860f97",
   "metadata": {},
   "outputs": [],
   "source": [
    "participantes.sort()"
   ]
  },
  {
   "cell_type": "code",
   "execution_count": 53,
   "id": "cca69c96",
   "metadata": {},
   "outputs": [
    {
     "data": {
      "text/plain": [
       "['Catherine', 'Dwayne', 'George', 'John', 'Leila', 'Maria']"
      ]
     },
     "execution_count": 53,
     "metadata": {},
     "output_type": "execute_result"
    }
   ],
   "source": [
    "participantes"
   ]
  },
  {
   "cell_type": "markdown",
   "id": "8c8756bf",
   "metadata": {},
   "source": [
    "O método .sort() também serve para número como podemos ver no exemplo à baixo:"
   ]
  },
  {
   "cell_type": "code",
   "execution_count": 55,
   "id": "cedb21cb",
   "metadata": {},
   "outputs": [
    {
     "data": {
      "text/plain": [
       "[1, 2, 3, 4, 5]"
      ]
     },
     "execution_count": 55,
     "metadata": {},
     "output_type": "execute_result"
    }
   ],
   "source": [
    "numeros = [5,4,3,2,1]\n",
    "numeros.sort()\n",
    "numeros"
   ]
  },
  {
   "cell_type": "markdown",
   "id": "452226c3",
   "metadata": {},
   "source": [
    "QUanto utilizamos o comendo \"reverse\" seguido de \"True\" estamos pedindo para o Python reverter a nossa sequência numérica imprimindo do maior para o menor. "
   ]
  },
  {
   "cell_type": "code",
   "execution_count": 59,
   "id": "c8016857",
   "metadata": {},
   "outputs": [
    {
     "data": {
      "text/plain": [
       "[7, 6, 4, 2, 1, 0]"
      ]
     },
     "execution_count": 59,
     "metadata": {},
     "output_type": "execute_result"
    }
   ],
   "source": [
    "numeros1 = [2,4,6,7,1,0]\n",
    "numeros1.sort(reverse=True)\n",
    "numeros1"
   ]
  },
  {
   "cell_type": "code",
   "execution_count": null,
   "id": "944b9055",
   "metadata": {},
   "outputs": [],
   "source": []
  }
 ],
 "metadata": {
  "kernelspec": {
   "display_name": "Python 3 (ipykernel)",
   "language": "python",
   "name": "python3"
  },
  "language_info": {
   "codemirror_mode": {
    "name": "ipython",
    "version": 3
   },
   "file_extension": ".py",
   "mimetype": "text/x-python",
   "name": "python",
   "nbconvert_exporter": "python",
   "pygments_lexer": "ipython3",
   "version": "3.9.7"
  }
 },
 "nbformat": 4,
 "nbformat_minor": 5
}
